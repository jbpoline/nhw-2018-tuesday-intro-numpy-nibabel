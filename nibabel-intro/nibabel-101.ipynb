{
 "cells": [
  {
   "cell_type": "code",
   "execution_count": 1,
   "metadata": {
    "collapsed": true
   },
   "outputs": [],
   "source": [
    "import nibabel as nib\n",
    "import numpy as np\n",
    "import seaborn as sns\n",
    "import matplotlib.pyplot as plt\n",
    "%matplotlib inline"
   ]
  },
  {
   "cell_type": "markdown",
   "metadata": {},
   "source": [
    "# NiBabel 101\n",
    "\n",
    "[NiBabel](http://nipy.org/nibabel/) is a python package for reading and writing neuroimaging data. This short tutorial will walk through the basics of reading and writing NIfTI MRI data.\n",
    "\n",
    "Created by [Dan Lurie](http://danlurie.org) and presented on 2015-10-23as part of [Brainhack Americas](http://brainhack.org/americas/).\n",
    "\n",
    "Modified and extended by JB Poline - borrowing from some material by M. Brett"
   ]
  },
  {
   "cell_type": "markdown",
   "metadata": {},
   "source": [
    "## Primer on NIfTI\n",
    "[NIfTI](http://nifti.nimh.nih.gov/) is one of the most common file formats for storing neuroimaging data. We could literally spend an entire week discussing the specifics and peculiarities of NIfTI, but for now I'm just going to cover the few things you need to know to get started working with data contained in NIfTI files (which usually end in `.nii` or `.nii.gz`).\n",
    "\n",
    "If you're interested in learning more about NIfTI images and how they're handled by NiBabel, I highly recommend [this blog post about the NIfTI format](http://brainder.org/2012/09/23/the-nifti-file-format/) and the [Working with NIfTI images](http://nipy.org/nibabel/nifti_images.html) and page of the NiBabel documentation. [This page on image orientations](http://www.grahamwideman.com/gw/brain/orientation/orientterms.htm) is also required reading to fully understand the details of working with MRI images.\n",
    "\n",
    "There are three main components of a NIfTI image.\n",
    "\n",
    "### Main page http://nipy.org/nibabel/nifti_images.html\n",
    "\n",
    "### Header\n",
    "[The header](http://nipy.org/nibabel/nibabel_images.html#the-image-header) contains metadata about the image, such as image dimensions, data type, and TR.\n",
    "\n",
    "### Affine\n",
    "The affine translates between data-space and world-space. If you're not familiar with coordinates and image spaces, check out the [Coordinate systems and affines](http://nipy.org/nibabel/coordinate_systems.html) page of the NiBabel documentation. Chris Gorgolewski has [a nice blog post](http://multiplecomparisons.blogspot.com/2014/12/how-to-convert-between-voxel-and-mm.html) on how to do this translation in a few lines of code.\n",
    "\n",
    "### Data\n",
    "The data is the data, usually a multidimensional array, always at least X, Y, Z, and sometimes also T (time). \n",
    "\n"
   ]
  },
  {
   "cell_type": "markdown",
   "metadata": {},
   "source": [
    "## Reading NIfTI Images"
   ]
  },
  {
   "cell_type": "markdown",
   "metadata": {},
   "source": [
    "Reading NIfTI images with NiBabel is an easy two step process.\n",
    "\n",
    "### `load()`\n",
    "First, we use the `load()` function to create a [NiBabel image object](http://nipy.org/nibabel/nibabel_images.html) from a NIfTI file."
   ]
  },
  {
   "cell_type": "code",
   "execution_count": 2,
   "metadata": {
    "collapsed": true
   },
   "outputs": [],
   "source": [
    "epi_fname = 'ds107_sub012_t1r2.nii'\n",
    "epi_image = nib.load(epi_fname)"
   ]
  },
  {
   "cell_type": "markdown",
   "metadata": {},
   "source": [
    "NiBabel images are handy because they let you view information about the image without having to load the entire file into memory. \n",
    "\n",
    "For example, we can check and see the voxel dimensions of an image (and if it is a 4D image, how many volumes there are)."
   ]
  },
  {
   "cell_type": "code",
   "execution_count": 3,
   "metadata": {},
   "outputs": [
    {
     "name": "stdout",
     "output_type": "stream",
     "text": [
      "(64, 64, 35, 166)\n"
     ]
    }
   ],
   "source": [
    "epi_image.shape[:-1]\n",
    "print(epi_image.shape)"
   ]
  },
  {
   "cell_type": "markdown",
   "metadata": {},
   "source": [
    "We could also see what kind of data is stored in the image."
   ]
  },
  {
   "cell_type": "code",
   "execution_count": 4,
   "metadata": {},
   "outputs": [
    {
     "data": {
      "text/plain": [
       "dtype('<i2')"
      ]
     },
     "execution_count": 4,
     "metadata": {},
     "output_type": "execute_result"
    }
   ],
   "source": [
    "epi_image.get_data_dtype()"
   ]
  },
  {
   "cell_type": "markdown",
   "metadata": {},
   "source": [
    "### `get_data()`\n",
    "To access the actual image data, we need to run the `get_data()` function on the image object. This will load the image data into memory. There are ways to access the image data without having to read the entire image into memory, but they are beyond the scope of this tutorial. For more information, [click here](http://nipy.org/nibabel/images_and_memory.html)."
   ]
  },
  {
   "cell_type": "code",
   "execution_count": 5,
   "metadata": {},
   "outputs": [
    {
     "name": "stdout",
     "output_type": "stream",
     "text": [
      "(64, 64, 35, 166)\n"
     ]
    }
   ],
   "source": [
    "epi_data = epi_image.get_data()\n",
    "print(epi_data.shape)"
   ]
  },
  {
   "cell_type": "markdown",
   "metadata": {},
   "source": [
    "The `get_data()` function returns a standard [NumPy multi-dimensional array](http://docs.scipy.org/doc/numpy/reference/generated/numpy.ndarray.html), so you can treat it as you would any other `ndarray`."
   ]
  },
  {
   "cell_type": "markdown",
   "metadata": {},
   "source": [
    "## Working With Image Data\n",
    "\n",
    "### Reshaping\n",
    "The array returned by `get_data()` will always have at least 3 dimensions, but in most cases it is not necessary to keep this shape while you work with the data. In practice it is often easier to work with a 2D (`n_voxels * n_volumes`) array. This can be done using the standard NumPy `reshape()` function."
   ]
  },
  {
   "cell_type": "code",
   "execution_count": 6,
   "metadata": {},
   "outputs": [
    {
     "data": {
      "text/plain": [
       "(143360, 166)"
      ]
     },
     "execution_count": 6,
     "metadata": {},
     "output_type": "execute_result"
    }
   ],
   "source": [
    "epi_data_2d = epi_data.reshape(np.prod(epi_data.shape[:-1]), epi_data.shape[-1])\n",
    "epi_data_2d.shape"
   ]
  },
  {
   "cell_type": "markdown",
   "metadata": {},
   "source": [
    "### Create a brain mask"
   ]
  },
  {
   "cell_type": "code",
   "execution_count": 7,
   "metadata": {},
   "outputs": [
    {
     "name": "stdout",
     "output_type": "stream",
     "text": [
      "(2, 3, 4)\n"
     ]
    },
    {
     "data": {
      "text/plain": [
       "array([ 0,  1,  2,  3,  4,  5,  6,  7,  8,  9, 10, 11, 12, 13, 14, 15, 16,\n",
       "       17, 18, 19, 20, 21, 22, 23])"
      ]
     },
     "execution_count": 7,
     "metadata": {},
     "output_type": "execute_result"
    }
   ],
   "source": [
    "# demonstrate flatten\n",
    "a = np.arange(2*3*4).reshape((2,3,4))\n",
    "print(a.shape)\n",
    "a.flatten()"
   ]
  },
  {
   "cell_type": "code",
   "execution_count": 8,
   "metadata": {},
   "outputs": [
    {
     "data": {
      "image/png": "[encoded data removed]",
      "text/plain": [
       "<matplotlib.figure.Figure at 0x7f0f1dd7bb70>"
      ]
     },
     "metadata": {},
     "output_type": "display_data"
    }
   ],
   "source": [
    "h = plt.hist(epi_data.flatten(), bins=50);"
   ]
  },
  {
   "cell_type": "code",
   "execution_count": 9,
   "metadata": {
    "collapsed": true
   },
   "outputs": [],
   "source": [
    "mask_data = epi_data > 500"
   ]
  },
  {
   "cell_type": "code",
   "execution_count": 10,
   "metadata": {},
   "outputs": [
    {
     "name": "stdout",
     "output_type": "stream",
     "text": [
      "(64, 64, 35) >i2\n"
     ]
    }
   ],
   "source": [
    "mask_data_volume = mask_data.any(axis=-1).astype('>i2')\n",
    "print(mask_data_volume.shape, mask_data_volume.dtype)"
   ]
  },
  {
   "cell_type": "code",
   "execution_count": 11,
   "metadata": {},
   "outputs": [
    {
     "data": {
      "text/plain": [
       "'ds107_sub012_t1r2_mask.nii'"
      ]
     },
     "execution_count": 11,
     "metadata": {},
     "output_type": "execute_result"
    }
   ],
   "source": [
    "mask_fname = epi_fname.split('.')[0] + '_mask' + '.nii'\n",
    "mask_fname"
   ]
  },
  {
   "cell_type": "code",
   "execution_count": 12,
   "metadata": {},
   "outputs": [
    {
     "name": "stdout",
     "output_type": "stream",
     "text": [
      ">i2\n"
     ]
    }
   ],
   "source": [
    "# if you had to copy \n",
    "mask_data_i2 = np.zeros(shape=mask_data_volume.shape, dtype='i2')\n",
    "# or here mask_data_i2 = mask_data_volume.copy() \n",
    "mask_data_i2[:] = mask_data_volume[:]\n",
    "print(mask_data_volume.dtype)"
   ]
  },
  {
   "cell_type": "code",
   "execution_count": null,
   "metadata": {
    "collapsed": true
   },
   "outputs": [],
   "source": []
  },
  {
   "cell_type": "code",
   "execution_count": 12,
   "metadata": {},
   "outputs": [
    {
     "name": "stdout",
     "output_type": "stream",
     "text": [
      "[[  3.           0.           0.         -93.        ]\n",
      " [  0.           3.           0.         -98.315979  ]\n",
      " [  0.           0.           3.         -30.69043922]\n",
      " [  0.           0.           0.           1.        ]]\n",
      "<class 'nibabel.nifti1.Nifti1Header'> object, endian='<'\n",
      "sizeof_hdr      : 348\n",
      "data_type       : b''\n",
      "db_name         : b''\n",
      "extents         : 0\n",
      "session_error   : 0\n",
      "regular         : b'r'\n",
      "dim_info        : 0\n",
      "dim             : [  4  64  64  35 166   1   1   1]\n",
      "intent_p1       : 0.0\n",
      "intent_p2       : 0.0\n",
      "intent_p3       : 0.0\n",
      "intent_code     : none\n",
      "datatype        : int16\n",
      "bitpix          : 16\n",
      "slice_start     : 0\n",
      "pixdim          : [ 1.  3.  3.  3.  3.  0.  0.  0.]\n",
      "vox_offset      : 0.0\n",
      "scl_slope       : nan\n",
      "scl_inter       : nan\n",
      "slice_end       : 0\n",
      "slice_code      : unknown\n",
      "xyzt_units      : 10\n",
      "cal_max         : 0.0\n",
      "cal_min         : 0.0\n",
      "slice_duration  : 0.0\n",
      "toffset         : 0.0\n",
      "glmax           : 0\n",
      "glmin           : 0\n",
      "descrip         : b'FSL4.0'\n",
      "aux_file        : b''\n",
      "qform_code      : scanner\n",
      "sform_code      : scanner\n",
      "quatern_b       : 0.0\n",
      "quatern_c       : 0.0\n",
      "quatern_d       : 0.0\n",
      "qoffset_x       : -93.0\n",
      "qoffset_y       : -98.31597900390625\n",
      "qoffset_z       : -30.690439224243164\n",
      "srow_x          : [  3.   0.   0. -93.]\n",
      "srow_y          : [  0.         3.         0.       -98.315979]\n",
      "srow_z          : [  0.           0.           3.         -30.69043922]\n",
      "intent_name     : b''\n",
      "magic           : b'n+1'\n"
     ]
    }
   ],
   "source": [
    "mask_affine = epi_image.affine\n",
    "print(mask_affine)\n",
    "mask_header = epi_image.header\n",
    "print(mask_header)"
   ]
  },
  {
   "cell_type": "code",
   "execution_count": 14,
   "metadata": {},
   "outputs": [
    {
     "name": "stdout",
     "output_type": "stream",
     "text": [
      "int16\n",
      "(64, 64, 35, 166)\n",
      "(64, 64, 35)\n"
     ]
    }
   ],
   "source": [
    "# The header is wrong - dim is wrong, dtype may be wrong, etc\n",
    "# we could correct with : \n",
    "mask_header.set_data_dtype(mask_data_i2.dtype)\n",
    "print(mask_header.get_data_dtype())\n",
    "dim = mask_header.get_data_shape()\n",
    "print(dim)\n",
    "mask_header.set_data_shape((64, 64, 35))\n",
    "#print(mask_header)\n",
    "dim = mask_header.get_data_shape()\n",
    "print(dim)\n",
    "#header.set_dim_info()"
   ]
  },
  {
   "cell_type": "code",
   "execution_count": 17,
   "metadata": {},
   "outputs": [
    {
     "name": "stdout",
     "output_type": "stream",
     "text": [
      "(64, 64, 35)\n"
     ]
    }
   ],
   "source": [
    "print(mask_data_volume.shape)\n",
    "mask_img = nib.Nifti1Image(mask_data_volume, mask_affine, mask_header)\n",
    "mask_img.to_filename(mask_fname)"
   ]
  },
  {
   "cell_type": "code",
   "execution_count": 19,
   "metadata": {},
   "outputs": [
    {
     "name": "stdout",
     "output_type": "stream",
     "text": [
      "(64, 64, 35)\n",
      "<class 'nibabel.nifti1.Nifti1Header'> object, endian='<'\n",
      "sizeof_hdr      : 348\n",
      "data_type       : b''\n",
      "db_name         : b''\n",
      "extents         : 0\n",
      "session_error   : 0\n",
      "regular         : b'r'\n",
      "dim_info        : 0\n",
      "dim             : [ 3 64 64 35  1  1  1  1]\n",
      "intent_p1       : 0.0\n",
      "intent_p2       : 0.0\n",
      "intent_p3       : 0.0\n",
      "intent_code     : none\n",
      "datatype        : int16\n",
      "bitpix          : 16\n",
      "slice_start     : 0\n",
      "pixdim          : [ 1.  3.  3.  3.  1.  1.  1.  1.]\n",
      "vox_offset      : 0.0\n",
      "scl_slope       : nan\n",
      "scl_inter       : nan\n",
      "slice_end       : 0\n",
      "slice_code      : unknown\n",
      "xyzt_units      : 10\n",
      "cal_max         : 0.0\n",
      "cal_min         : 0.0\n",
      "slice_duration  : 0.0\n",
      "toffset         : 0.0\n",
      "glmax           : 0\n",
      "glmin           : 0\n",
      "descrip         : b'FSL4.0'\n",
      "aux_file        : b''\n",
      "qform_code      : scanner\n",
      "sform_code      : scanner\n",
      "quatern_b       : 0.0\n",
      "quatern_c       : 0.0\n",
      "quatern_d       : 0.0\n",
      "qoffset_x       : -93.0\n",
      "qoffset_y       : -98.31597900390625\n",
      "qoffset_z       : -30.690439224243164\n",
      "srow_x          : [  3.   0.   0. -93.]\n",
      "srow_y          : [  0.         3.         0.       -98.315979]\n",
      "srow_z          : [  0.           0.           3.         -30.69043922]\n",
      "intent_name     : b''\n",
      "magic           : b'n+1'\n"
     ]
    }
   ],
   "source": [
    "mask_img = nib.load(mask_fname)\n",
    "mask_data = mask_img.get_data()\n",
    "print(mask_data.shape)\n",
    "print(mask_img.header)"
   ]
  },
  {
   "cell_type": "markdown",
   "metadata": {},
   "source": [
    "## "
   ]
  },
  {
   "cell_type": "markdown",
   "metadata": {},
   "source": [
    "### Using Brain Masks\n",
    "Most of the time, you're not interested in the voxels outside the brain. Non-brain voxels are (almost) always set to zero, and are often collectively referred to as the background of the image. This can be seen as the empty black  or grey space outside the head/brain when viewing MRI images. Because we are only interested in the brain data, it is necessary to ignore the background voxels, and in practice this is done by creating a new array that contains only voxels within a pre-defined brain mask.\n",
    "\n",
    "Let's load a mask and compare it to our EPI image."
   ]
  },
  {
   "cell_type": "code",
   "execution_count": 17,
   "metadata": {
    "collapsed": true
   },
   "outputs": [],
   "source": [
    "mask_image = nib.load(mask_fname)\n",
    "mask_data = mask_image.get_data()\n",
    "epi_image = nib.load(epi_fname)\n",
    "epi_data = epi_image.get_data()"
   ]
  },
  {
   "cell_type": "code",
   "execution_count": 18,
   "metadata": {},
   "outputs": [
    {
     "name": "stdout",
     "output_type": "stream",
     "text": [
      "(64, 64, 35, 166)\n",
      "(64, 64, 35)\n"
     ]
    },
    {
     "data": {
      "text/plain": [
       "<matplotlib.text.Text at 0x7fd771434be0>"
      ]
     },
     "execution_count": 18,
     "metadata": {},
     "output_type": "execute_result"
    },
    {
     "data": {
      "image/png": "[encoded data removed]",
      "text/plain": [
       "<matplotlib.figure.Figure at 0x7fd7a445ea20>"
      ]
     },
     "metadata": {},
     "output_type": "display_data"
    }
   ],
   "source": [
    "sl, tr   = 25, 90\n",
    "print(epi_data.shape)\n",
    "print(mask_data.shape)\n",
    "\n",
    "fig, (ax1, ax2) = plt.subplots(1,2, figsize=(10, 5))                       \n",
    "ax1.imshow(epi_data[:, :, sl, tr], interpolation='nearest', \n",
    "                                   cmap='bone', vmin=\"0\", vmax=\"1500\")\n",
    "ax1.set_title('EPI Image')\n",
    "ax2.imshow(1 - mask_data[:, :, sl], interpolation='nearest')\n",
    "ax2.set_title('Mask Image')"
   ]
  },
  {
   "cell_type": "markdown",
   "metadata": {},
   "source": [
    "A brain mask is a NIfTI image with the same dimensions as the brain image to which it will be applied, but instead of voxels of many different intensities, it contains only 0's and 1's. This can also be thought of as an image of True/False values. Because the mask and the brain image are exactly the same shape, every voxel in the data image has a corresponding voxel in the mask. When a mask is applied, voxels in the data image are only included if the corresponding voxel in the mask has a value of 1 (True); all other voxels (those with a value of 0) are excluded. In practice, we are using the mask image to [index](http://docs.scipy.org/doc/numpy/user/basics.indexing.html) the data image.\n",
    "\n",
    "An added bonus of applying a mask in this way is that your data is automatically reshaped to `n_voxels * n_volumes`. \n"
   ]
  },
  {
   "cell_type": "code",
   "execution_count": 19,
   "metadata": {
    "collapsed": true
   },
   "outputs": [],
   "source": [
    "mask_image = nib.load(mask_fname)\n",
    "mask_data = mask_image.get_data()"
   ]
  },
  {
   "cell_type": "markdown",
   "metadata": {},
   "source": [
    "Then, we make sure the mask data is boolean so that every voxel is either True or False."
   ]
  },
  {
   "cell_type": "code",
   "execution_count": 20,
   "metadata": {
    "collapsed": true
   },
   "outputs": [],
   "source": [
    "mask_data = mask_data.astype(bool)"
   ]
  },
  {
   "cell_type": "markdown",
   "metadata": {},
   "source": [
    "Once we have our boolean mask, masking the data is as simple as applying an index to an array."
   ]
  },
  {
   "cell_type": "code",
   "execution_count": 21,
   "metadata": {},
   "outputs": [
    {
     "data": {
      "text/plain": [
       "(54433, 166)"
      ]
     },
     "execution_count": 21,
     "metadata": {},
     "output_type": "execute_result"
    }
   ],
   "source": [
    "epi_data_masked = epi_data[mask_data]\n",
    "epi_data_masked.shape"
   ]
  },
  {
   "cell_type": "markdown",
   "metadata": {},
   "source": [
    "We can see that there are fewer voxels per volume in the masked data than the reshaped data, because we have excluded all voxels outside the brain. Now that we have our brain data, we can analyze and manipulate it as we please. For example, we might want to generate an image of the standard deviation of the intensity of a voxel across the whole scan."
   ]
  },
  {
   "cell_type": "code",
   "execution_count": 22,
   "metadata": {},
   "outputs": [
    {
     "data": {
      "text/plain": [
       "(54433,)"
      ]
     },
     "execution_count": 22,
     "metadata": {},
     "output_type": "execute_result"
    }
   ],
   "source": [
    "std_epi_masked = np.std(epi_data_masked, axis=1)\n",
    "std_epi_masked.shape"
   ]
  },
  {
   "cell_type": "markdown",
   "metadata": {},
   "source": [
    "As expected, taking the standard deviation has collapsed across volumes, so we now have an `n_vox * 1` array.\n",
    "\n",
    "### Unmasking and Creating New Images\n",
    "\n",
    "Once we have done our analysis, we usually want to save it as a new NIfTI file. If our data is masked, we first have to unmask it. Luckily, this is almost as easy as masking.\n",
    "\n",
    "First, we create a new empty (all 0's) image array the with the same dimensions as the original data. In this case, although our EPI data was 4D, our standard deviation image is 3D, so we will create an empty 3D array. We pull the image dimensions from the mask (which is 3D), and specify that the empty array should be the same data type as our data."
   ]
  },
  {
   "cell_type": "code",
   "execution_count": 23,
   "metadata": {},
   "outputs": [
    {
     "data": {
      "text/plain": [
       "(64, 64, 35)"
      ]
     },
     "execution_count": 23,
     "metadata": {},
     "output_type": "execute_result"
    }
   ],
   "source": [
    "unmasked_data = np.zeros(mask_data.shape, dtype=std_epi_masked.dtype)\n",
    "unmasked_data.shape"
   ]
  },
  {
   "cell_type": "markdown",
   "metadata": {},
   "source": [
    "Once we have our empty image, we simply apply our mask to the empty image and then copy our mean image to that array."
   ]
  },
  {
   "cell_type": "code",
   "execution_count": 24,
   "metadata": {
    "collapsed": true
   },
   "outputs": [],
   "source": [
    "unmasked_data[mask_data] = std_epi_masked"
   ]
  },
  {
   "cell_type": "markdown",
   "metadata": {},
   "source": [
    "We can now view our standard deviation image."
   ]
  },
  {
   "cell_type": "code",
   "execution_count": 25,
   "metadata": {},
   "outputs": [
    {
     "name": "stdout",
     "output_type": "stream",
     "text": [
      "17.4219797728 621.956505171\n"
     ]
    },
    {
     "data": {
      "text/plain": [
       "<matplotlib.image.AxesImage at 0x7fd77132a240>"
      ]
     },
     "execution_count": 25,
     "metadata": {},
     "output_type": "execute_result"
    },
    {
     "data": {
      "image/png": "[encoded data removed]",
      "text/plain": [
       "<matplotlib.figure.Figure at 0x7fd766b7c668>"
      ]
     },
     "metadata": {},
     "output_type": "display_data"
    }
   ],
   "source": [
    "print(unmasked_data.mean(),unmasked_data.max())\n",
    "plt.matshow(np.log(unmasked_data[:, :, sl]+1), cmap='bone', vmin='0', vmax='5')"
   ]
  },
  {
   "cell_type": "markdown",
   "metadata": {},
   "source": [
    "## Writing NIfTI Images"
   ]
  },
  {
   "cell_type": "markdown",
   "metadata": {},
   "source": [
    "Writing NIfTI files is a little bit more complicated than reading them, because we have to pass a NiBabel `nifti1` image object to the `save()` function, and often our data is in a vanilla NumPy array. While it is possible to manually create a new image, header, and affine, I often find it is easier to pull these from an existing image. Here's how I do it.\n",
    "\n",
    "First, we copy the header and affine from the mask."
   ]
  },
  {
   "cell_type": "code",
   "execution_count": 26,
   "metadata": {
    "collapsed": true
   },
   "outputs": [],
   "source": [
    "mask_header = mask_image.header\n",
    "mask_affine = mask_image.affine"
   ]
  },
  {
   "cell_type": "markdown",
   "metadata": {},
   "source": [
    "Since our image data is taken from an image in the same space as the mask, we can use the unmodified affine. However, our data are float, while masks are usually integer, so it is good practice to explicitly set the data type for the new image."
   ]
  },
  {
   "cell_type": "code",
   "execution_count": 27,
   "metadata": {
    "collapsed": true
   },
   "outputs": [],
   "source": [
    "mask_header.set_data_dtype(unmasked_data.dtype)"
   ]
  },
  {
   "cell_type": "markdown",
   "metadata": {},
   "source": [
    "We now create a new NiBabel `nifti1` image from our data, header, and affine."
   ]
  },
  {
   "cell_type": "code",
   "execution_count": 28,
   "metadata": {
    "collapsed": true
   },
   "outputs": [],
   "source": [
    "sd_img = nib.Nifti1Image(unmasked_data, mask_affine, mask_header)"
   ]
  },
  {
   "cell_type": "markdown",
   "metadata": {},
   "source": [
    "Once we have our data in an image, saving is easy."
   ]
  },
  {
   "cell_type": "code",
   "execution_count": 29,
   "metadata": {
    "collapsed": true
   },
   "outputs": [],
   "source": [
    "import os.path as osp"
   ]
  },
  {
   "cell_type": "code",
   "execution_count": 30,
   "metadata": {
    "collapsed": true
   },
   "outputs": [],
   "source": [
    "sd_img.to_filename(osp.join(osp.curdir, 'sd_epi_image.nii.gz'))"
   ]
  },
  {
   "cell_type": "markdown",
   "metadata": {},
   "source": [
    "# Working with affines"
   ]
  },
  {
   "cell_type": "markdown",
   "metadata": {},
   "source": [
    "## sampling an x,y,z coordinate"
   ]
  },
  {
   "cell_type": "markdown",
   "metadata": {},
   "source": [
    "Say you are interested in the time series that is at the MNI (0, 0, 0) - how do you sample this ?"
   ]
  },
  {
   "cell_type": "code",
   "execution_count": 22,
   "metadata": {},
   "outputs": [
    {
     "name": "stdout",
     "output_type": "stream",
     "text": [
      "[[  3.           0.           0.         -93.        ]\n",
      " [  0.           3.           0.         -98.315979  ]\n",
      " [  0.           0.           3.         -30.69043922]\n",
      " [  0.           0.           0.           1.        ]]\n"
     ]
    }
   ],
   "source": [
    "# the affine is giving me the data block to the MNI (or other) coordinate system,\n",
    "# The inverse is yielding\n",
    "A = epi_image.affine\n",
    "print(A)"
   ]
  },
  {
   "cell_type": "code",
   "execution_count": 37,
   "metadata": {},
   "outputs": [
    {
     "name": "stdout",
     "output_type": "stream",
     "text": [
      "[[ 0.]\n",
      " [ 0.]\n",
      " [ 0.]\n",
      " [ 1.]]\n"
     ]
    }
   ],
   "source": [
    "xyz = np.zeros(shape=(4,1))\n",
    "xyz[3,0] = 1\n",
    "print(z)"
   ]
  },
  {
   "cell_type": "code",
   "execution_count": 54,
   "metadata": {},
   "outputs": [
    {
     "data": {
      "text/plain": [
       "array([[ 0.],\n",
       "       [ 0.],\n",
       "       [ 0.],\n",
       "       [ 1.]])"
      ]
     },
     "execution_count": 54,
     "metadata": {},
     "output_type": "execute_result"
    }
   ],
   "source": [
    "xyz"
   ]
  },
  {
   "cell_type": "code",
   "execution_count": 63,
   "metadata": {},
   "outputs": [
    {
     "name": "stdout",
     "output_type": "stream",
     "text": [
      "[[31]\n",
      " [33]\n",
      " [10]\n",
      " [ 1]]\n",
      "[31 33 10]\n"
     ]
    },
    {
     "data": {
      "text/plain": [
       "(166,)"
      ]
     },
     "execution_count": 63,
     "metadata": {},
     "output_type": "execute_result"
    }
   ],
   "source": [
    "import scipy.linalg as lin\n",
    "\n",
    "ijk = np.round(np.dot(lin.inv(A), xyz)).astype(int)\n",
    "print(ijk)\n",
    "ijk = ijk.reshape((4,))[:3]\n",
    "print(ijk)\n",
    "epi_data[ijk[0], ijk[1], ijk[2], :].shape\n",
    "#epi_data[tuple(ijk), :].shape"
   ]
  },
  {
   "cell_type": "code",
   "execution_count": 64,
   "metadata": {},
   "outputs": [
    {
     "data": {
      "text/plain": [
       "[<matplotlib.lines.Line2D at 0x7f0f15722358>]"
      ]
     },
     "execution_count": 64,
     "metadata": {},
     "output_type": "execute_result"
    },
    {
     "data": {
      "image/png": "[encoded data removed]",
      "text/plain": [
       "<matplotlib.figure.Figure at 0x7f0f157439b0>"
      ]
     },
     "metadata": {},
     "output_type": "display_data"
    }
   ],
   "source": [
    "plt.plot(epi_data[ijk[0], ijk[1], ijk[2], :])"
   ]
  },
  {
   "cell_type": "code",
   "execution_count": null,
   "metadata": {
    "collapsed": true
   },
   "outputs": [],
   "source": []
  }
 ],
 "metadata": {
  "kernelspec": {
   "display_name": "Python 3",
   "language": "python",
   "name": "python3"
  },
  "language_info": {
   "codemirror_mode": {
    "name": "ipython",
    "version": 3
   },
   "file_extension": ".py",
   "mimetype": "text/x-python",
   "name": "python",
   "nbconvert_exporter": "python",
   "pygments_lexer": "ipython3",
   "version": "3.5.1+"
  },
  "toc": {
   "nav_menu": {},
   "number_sections": true,
   "sideBar": true,
   "skip_h1_title": false,
   "toc_cell": false,
   "toc_position": {},
   "toc_section_display": "block",
   "toc_window_display": false
  }
 },
 "nbformat": 4,
 "nbformat_minor": 1
}
