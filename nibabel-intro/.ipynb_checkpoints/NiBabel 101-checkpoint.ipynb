{
 "cells": [
  {
   "cell_type": "code",
   "execution_count": 1,
   "metadata": {
    "collapsed": true
   },
   "outputs": [],
   "source": [
    "import nibabel as nib\n",
    "import numpy as np\n",
    "import seaborn as sns\n",
    "import matplotlib.pyplot as plt\n",
    "%matplotlib inline"
   ]
  },
  {
   "cell_type": "markdown",
   "metadata": {},
   "source": [
    "# NiBabel 101\n",
    "\n",
    "[NiBabel](http://nipy.org/nibabel/) is a python package for reading and writing neuroimaging data. This short tutorial will walk through the basics of reading and writing NIfTI MRI data.\n",
    "\n",
    "Created by [Dan Lurie](http://danlurie.org) and presented on 2015-10-23as part of [Brainhack Americas](http://brainhack.org/americas/)."
   ]
  },
  {
   "cell_type": "markdown",
   "metadata": {},
   "source": [
    "## Primer on NIfTI\n",
    "[NIfTI](http://nifti.nimh.nih.gov/) is one of the most common file formats for storing neuroimaging data. We could literally spend an entire week discussing the specifics and peculiarities of NIfTI, but for now I'm just going to cover the few things you need to know to get started working with data contained in NIfTI files (which usually end in `.nii` or `.nii.gz`).\n",
    "\n",
    "If you're interested in learning more about NIfTI images and how they're handled by NiBabel, I highly recommend [this blog post about the NIfTI format](http://brainder.org/2012/09/23/the-nifti-file-format/) and the [Working with NIfTI images](http://nipy.org/nibabel/nifti_images.html) and page of the NiBabel documentation. [This page on image orientations](http://www.grahamwideman.com/gw/brain/orientation/orientterms.htm) is also required reading to fully understand the details of working with MRI images.\n",
    "\n",
    "There are three main components of a NIfTI image.\n",
    "\n",
    "### Header\n",
    "[The header](http://nipy.org/nibabel/nibabel_images.html#the-image-header) contains metadata about the image, such as image dimensions, data type, and TR.\n",
    "\n",
    "### Affine\n",
    "The affine translates between data-space and world-space. If you're not familiar with coordinates and image spaces, check out the [Coordinate systems and affines](http://nipy.org/nibabel/coordinate_systems.html) page of the NiBabel documentation. Chris Gorgolewski has [a nice blog post](http://multiplecomparisons.blogspot.com/2014/12/how-to-convert-between-voxel-and-mm.html) on how to do this translation in a few lines of code.\n",
    "\n",
    "### Data\n",
    "The data is the data, usually a multidimensional array, always at least X, Y, Z, and sometimes also T (time). "
   ]
  },
  {
   "cell_type": "markdown",
   "metadata": {},
   "source": [
    "## Reading NIfTI Images"
   ]
  },
  {
   "cell_type": "markdown",
   "metadata": {},
   "source": [
    "Reading NIfTI images with NiBabel is an easy two step process.\n",
    "\n",
    "### `load()`\n",
    "First, we use the `load()` function to create a [NiBabel image object](http://nipy.org/nibabel/nibabel_images.html) from a NIfTI file."
   ]
  },
  {
   "cell_type": "code",
   "execution_count": 2,
   "metadata": {},
   "outputs": [
    {
     "ename": "FileNotFoundError",
     "evalue": "No such file: '/Users/dlurie/Dropbox/Talks/nibabel_101/subject_01_rest_preproc_mni.nii'",
     "output_type": "error",
     "traceback": [
      "\u001b[0;31m---------------------------------------------------------------------------\u001b[0m",
      "\u001b[0;31mFileNotFoundError\u001b[0m                         Traceback (most recent call last)",
      "\u001b[0;32m<ipython-input-2-112699a2ea50>\u001b[0m in \u001b[0;36m<module>\u001b[0;34m()\u001b[0m\n\u001b[0;32m----> 1\u001b[0;31m \u001b[0mepi_image\u001b[0m \u001b[0;34m=\u001b[0m \u001b[0mnib\u001b[0m\u001b[0;34m.\u001b[0m\u001b[0mload\u001b[0m\u001b[0;34m(\u001b[0m\u001b[0;34m'/Users/dlurie/Dropbox/Talks/nibabel_101/subject_01_rest_preproc_mni.nii'\u001b[0m\u001b[0;34m)\u001b[0m\u001b[0;34m\u001b[0m\u001b[0m\n\u001b[0m",
      "\u001b[0;32m~/virtualenvs/py3/lib/python3.5/site-packages/nibabel/loadsave.py\u001b[0m in \u001b[0;36mload\u001b[0;34m(filename, **kwargs)\u001b[0m\n\u001b[1;32m     38\u001b[0m     '''\n\u001b[1;32m     39\u001b[0m     \u001b[0;32mif\u001b[0m \u001b[0;32mnot\u001b[0m \u001b[0mop\u001b[0m\u001b[0;34m.\u001b[0m\u001b[0mexists\u001b[0m\u001b[0;34m(\u001b[0m\u001b[0mfilename\u001b[0m\u001b[0;34m)\u001b[0m\u001b[0;34m:\u001b[0m\u001b[0;34m\u001b[0m\u001b[0m\n\u001b[0;32m---> 40\u001b[0;31m         \u001b[0;32mraise\u001b[0m \u001b[0mFileNotFoundError\u001b[0m\u001b[0;34m(\u001b[0m\u001b[0;34m\"No such file: '%s'\"\u001b[0m \u001b[0;34m%\u001b[0m \u001b[0mfilename\u001b[0m\u001b[0;34m)\u001b[0m\u001b[0;34m\u001b[0m\u001b[0m\n\u001b[0m\u001b[1;32m     41\u001b[0m     \u001b[0msniff\u001b[0m \u001b[0;34m=\u001b[0m \u001b[0;32mNone\u001b[0m\u001b[0;34m\u001b[0m\u001b[0m\n\u001b[1;32m     42\u001b[0m     \u001b[0;32mfor\u001b[0m \u001b[0mimage_klass\u001b[0m \u001b[0;32min\u001b[0m \u001b[0mall_image_classes\u001b[0m\u001b[0;34m:\u001b[0m\u001b[0;34m\u001b[0m\u001b[0m\n",
      "\u001b[0;31mFileNotFoundError\u001b[0m: No such file: '/Users/dlurie/Dropbox/Talks/nibabel_101/subject_01_rest_preproc_mni.nii'"
     ]
    }
   ],
   "source": [
    "epi_image = nib.load('/Users/dlurie/Dropbox/Talks/nibabel_101/subject_01_rest_preproc_mni.nii')"
   ]
  },
  {
   "cell_type": "markdown",
   "metadata": {},
   "source": [
    "NiBabel images are handy because they let you view information about the image without having to load the entire file into memory. \n",
    "\n",
    "For example, we can check and see the voxel dimensions of an image (and if it is a 4D image, how many volumes there are)."
   ]
  },
  {
   "cell_type": "code",
   "execution_count": 3,
   "metadata": {},
   "outputs": [
    {
     "data": {
      "text/plain": [
       "(91, 109, 91)"
      ]
     },
     "execution_count": 3,
     "metadata": {},
     "output_type": "execute_result"
    }
   ],
   "source": [
    "epi_image.shape[:-1]"
   ]
  },
  {
   "cell_type": "markdown",
   "metadata": {},
   "source": [
    "We could also see what kind of data is stored in the image."
   ]
  },
  {
   "cell_type": "code",
   "execution_count": 4,
   "metadata": {},
   "outputs": [
    {
     "data": {
      "text/plain": [
       "dtype('<f8')"
      ]
     },
     "execution_count": 4,
     "metadata": {},
     "output_type": "execute_result"
    }
   ],
   "source": [
    "epi_image.get_data_dtype()"
   ]
  },
  {
   "cell_type": "markdown",
   "metadata": {},
   "source": [
    "### `get_data()`\n",
    "To access the actual image data, we need to run the `get_data()` function on the image object. This will load the image data into memory. There are ways to access the image data without having to read the entire image into memory, but they are beyond the scope of this tutorial. For more information, [click here](http://nipy.org/nibabel/images_and_memory.html)."
   ]
  },
  {
   "cell_type": "code",
   "execution_count": 5,
   "metadata": {
    "collapsed": true
   },
   "outputs": [],
   "source": [
    "epi_data = epi_image.get_data()"
   ]
  },
  {
   "cell_type": "markdown",
   "metadata": {},
   "source": [
    "The `get_data()` function returns a standard [NumPy multi-dimensional array](http://docs.scipy.org/doc/numpy/reference/generated/numpy.ndarray.html), so you can treat it as you would any other `ndarray`."
   ]
  },
  {
   "cell_type": "markdown",
   "metadata": {},
   "source": [
    "## Working With Image Data\n",
    "\n",
    "### Reshaping\n",
    "The array returned by `get_data()` will always have at least 3 dimensions, but in most cases it is not necessary to keep this shape while you work with the data. In practice it is often easier to work with a 2D (`n_voxels * n_volumes`) array. This can be done using the standard NumPy `reshape()` function."
   ]
  },
  {
   "cell_type": "code",
   "execution_count": 6,
   "metadata": {},
   "outputs": [
    {
     "data": {
      "text/plain": [
       "(902629, 120)"
      ]
     },
     "execution_count": 6,
     "metadata": {},
     "output_type": "execute_result"
    }
   ],
   "source": [
    "epi_data_2d = epi_data.reshape(np.prod(epi_data.shape[:-1]), epi_data.shape[-1])\n",
    "epi_data_2d.shape"
   ]
  },
  {
   "cell_type": "markdown",
   "metadata": {},
   "source": [
    "### Using Brain Masks\n",
    "Most of the time, you're not interested in the voxels outside the brain. Non-brain voxels are (almost) always set to zero, and are often collectively referred to as the background of the image. This can be seen as the empty black  or grey space outside the head/brain when viewing MRI images. Because we are only interested in the brain data, it is necessary to ignore the background voxels, and in practice this is done by creating a new array that contains only voxels within a pre-defined brain mask.\n",
    "\n",
    "Let's load a mask and compare it to our EPI image."
   ]
  },
  {
   "cell_type": "code",
   "execution_count": 7,
   "metadata": {},
   "outputs": [],
   "source": [
    "mask_image = nib.load('/Users/dlurie/Dropbox/Talks/nibabel_101/subject_01_func_mask_mni.nii')\n",
    "mask_data = mask_image.get_data()"
   ]
  },
  {
   "cell_type": "code",
   "execution_count": 8,
   "metadata": {},
   "outputs": [
    {
     "data": {
      "text/plain": [
       "<matplotlib.text.Text at 0x170755fd0>"
      ]
     },
     "execution_count": 8,
     "metadata": {},
     "output_type": "execute_result"
    },
    {
     "data": {
      "image/png": "[encoded data removed]",
      "text/plain": [
       "<matplotlib.figure.Figure at 0x103f89590>"
      ]
     },
     "metadata": {},
     "output_type": "display_data"
    }
   ],
   "source": [
    "fig, (ax1, ax2) = plt.subplots(1,2, figsize=(10, 5))                       \n",
    "ax1.imshow(epi_data[:, :, 50, 90], interpolation='nearest', cmap='bone', vmin=\"-30\", vmax=\"45\")\n",
    "ax1.set_title('EPI Image')\n",
    "ax2.imshow(1 - mask_data[:, :, 50], interpolation='nearest')\n",
    "ax2.set_title('Mask Image')"
   ]
  },
  {
   "cell_type": "markdown",
   "metadata": {},
   "source": [
    "A brain mask is a NIfTI image with the same dimensions as the brain image to which it will be applied, but instead of voxels of many different intensities, it contains only 0's and 1's. This can also be thought of as an image of True/False values. Because the mask and the brain image are exactly the same shape, every voxel in the data image has a corresponding voxel in the mask. When a mask is applied, voxels in the data image are only included if the corresponding voxel in the mask has a value of 1 (True); all other voxels (those with a value of 0) are excluded. In practice, we are using the mask image to [index](http://docs.scipy.org/doc/numpy/user/basics.indexing.html) the data image.\n",
    "\n",
    "An added bonus of applying a mask in this way is that your data is automatically reshaped to `n_voxels * n_volumes`. \n",
    "\n",
    "First, we load the brain mask and get the data."
   ]
  },
  {
   "cell_type": "code",
   "execution_count": 9,
   "metadata": {},
   "outputs": [],
   "source": [
    "mask_image = nib.load('/Users/dlurie/Dropbox/Talks/nibabel_101/subject_01_func_mask_mni.nii')\n",
    "mask_data = mask_image.get_data()"
   ]
  },
  {
   "cell_type": "markdown",
   "metadata": {},
   "source": [
    "Then, we make sure the mask data is boolean so that every voxel is either True or False."
   ]
  },
  {
   "cell_type": "code",
   "execution_count": 10,
   "metadata": {
    "collapsed": true
   },
   "outputs": [],
   "source": [
    "mask_data = mask_data.astype(bool)"
   ]
  },
  {
   "cell_type": "markdown",
   "metadata": {},
   "source": [
    "Once we have our boolean mask, masking the data is as simple as applying an index to an array."
   ]
  },
  {
   "cell_type": "code",
   "execution_count": 11,
   "metadata": {},
   "outputs": [
    {
     "data": {
      "text/plain": [
       "(316636, 120)"
      ]
     },
     "execution_count": 11,
     "metadata": {},
     "output_type": "execute_result"
    }
   ],
   "source": [
    "epi_data_masked = epi_data[mask_data]\n",
    "epi_data_masked.shape"
   ]
  },
  {
   "cell_type": "markdown",
   "metadata": {},
   "source": [
    "We can see that there are fewer voxels per volume in the masked data than the reshaped data, because we have excluded all voxels outside the brain. Now that we have our brain data, we can analyze and manipulate it as we please. For example, we might want to generate an image of the standard deviation of the intensity of a voxel across the whole scan."
   ]
  },
  {
   "cell_type": "code",
   "execution_count": 12,
   "metadata": {},
   "outputs": [
    {
     "data": {
      "text/plain": [
       "(316636,)"
      ]
     },
     "execution_count": 12,
     "metadata": {},
     "output_type": "execute_result"
    }
   ],
   "source": [
    "std_epi_masked = np.std(epi_data_masked, axis=1)\n",
    "std_epi_masked.shape"
   ]
  },
  {
   "cell_type": "markdown",
   "metadata": {},
   "source": [
    "As expected, taking the standard deviation has collapsed across volumes, so we now have an `n_vox * 1` array.\n",
    "\n",
    "### Unmasking and Creating New Images\n",
    "\n",
    "Once we have done our analysis, we usually want to save it as a new NIfTI file. If our data is masked, we first have to unmask it. Luckily, this is almost as easy as masking.\n",
    "\n",
    "First, we create a new empty (all 0's) image array the with the same dimensions as the original data. In this case, although our EPI data was 4D, our standard deviation image is 3D, so we will create an empty 3D array. We pull the image dimensions from the mask (which is 3D), and specify that the empty array should be the same data type as our data."
   ]
  },
  {
   "cell_type": "code",
   "execution_count": 13,
   "metadata": {},
   "outputs": [
    {
     "data": {
      "text/plain": [
       "(91, 109, 91)"
      ]
     },
     "execution_count": 13,
     "metadata": {},
     "output_type": "execute_result"
    }
   ],
   "source": [
    "unmasked_data = np.zeros(mask_data.shape, dtype=std_epi_masked.dtype)\n",
    "unmasked_data.shape"
   ]
  },
  {
   "cell_type": "markdown",
   "metadata": {},
   "source": [
    "Once we have our empty image, we simply apply our mask to the empty image and then copy our mean image to that array."
   ]
  },
  {
   "cell_type": "code",
   "execution_count": 14,
   "metadata": {
    "collapsed": true
   },
   "outputs": [],
   "source": [
    "unmasked_data[mask_data] = std_epi_masked"
   ]
  },
  {
   "cell_type": "markdown",
   "metadata": {},
   "source": [
    "We can now view our standard deviation image."
   ]
  },
  {
   "cell_type": "code",
   "execution_count": 15,
   "metadata": {},
   "outputs": [
    {
     "data": {
      "text/plain": [
       "<matplotlib.image.AxesImage at 0x170472c90>"
      ]
     },
     "execution_count": 15,
     "metadata": {},
     "output_type": "execute_result"
    },
    {
     "data": {
      "image/png": "[encoded data removed]",
      "text/plain": [
       "<matplotlib.figure.Figure at 0x1709af190>"
      ]
     },
     "metadata": {},
     "output_type": "display_data"
    }
   ],
   "source": [
    "plt.matshow(unmasked_data[:, :, 50], cmap='bone', vmin='0', vmax='111')"
   ]
  },
  {
   "cell_type": "markdown",
   "metadata": {},
   "source": [
    "## Writing NIfTI Images"
   ]
  },
  {
   "cell_type": "markdown",
   "metadata": {},
   "source": [
    "Writing NIfTI files is a little bit more complicated than reading them, because we have to pass a NiBabel `nifti1` image object to the `save()` function, and often our data is in a vanilla NumPy array. While it is possible to manually create a new image, header, and affine, I often find it is easier to pull these from an existing image. Here's how I do it.\n",
    "\n",
    "First, we copy the header and affine from the mask."
   ]
  },
  {
   "cell_type": "code",
   "execution_count": 16,
   "metadata": {
    "collapsed": true
   },
   "outputs": [],
   "source": [
    "mask_header = mask_image.get_header()\n",
    "mask_affine = mask_image.get_affine()"
   ]
  },
  {
   "cell_type": "markdown",
   "metadata": {},
   "source": [
    "Since our image data is taken from an image in the same space as the mask, we can use the unmodified affine. However, our data are float, while masks are usually integer, so it is good practice to explicitly set the data type for the new image."
   ]
  },
  {
   "cell_type": "code",
   "execution_count": 17,
   "metadata": {
    "collapsed": true
   },
   "outputs": [],
   "source": [
    "mask_header.set_data_dtype(unmasked_data.dtype)"
   ]
  },
  {
   "cell_type": "markdown",
   "metadata": {},
   "source": [
    "We now create a new NiBabel `nifti1` image from our data, header, and affine."
   ]
  },
  {
   "cell_type": "code",
   "execution_count": 18,
   "metadata": {
    "collapsed": true
   },
   "outputs": [],
   "source": [
    "sd_img = nib.Nifti1Image(unmasked_data, mask_affine, mask_header)"
   ]
  },
  {
   "cell_type": "markdown",
   "metadata": {},
   "source": [
    "Once we have our data in an image, saving is easy."
   ]
  },
  {
   "cell_type": "code",
   "execution_count": 19,
   "metadata": {
    "collapsed": true
   },
   "outputs": [],
   "source": [
    "sd_img.to_filename('/Users/dlurie/Dropbox/Talks/nibabel_101/sd_epi_image.nii.gz')"
   ]
  }
 ],
 "metadata": {
  "kernelspec": {
   "display_name": "Python 3",
   "language": "python",
   "name": "python3"
  },
  "language_info": {
   "codemirror_mode": {
    "name": "ipython",
    "version": 3
   },
   "file_extension": ".py",
   "mimetype": "text/x-python",
   "name": "python",
   "nbconvert_exporter": "python",
   "pygments_lexer": "ipython3",
   "version": "3.5.1+"
  },
  "toc": {
   "nav_menu": {},
   "number_sections": true,
   "sideBar": true,
   "skip_h1_title": false,
   "toc_cell": false,
   "toc_position": {},
   "toc_section_display": "block",
   "toc_window_display": false
  }
 },
 "nbformat": 4,
 "nbformat_minor": 1
}
